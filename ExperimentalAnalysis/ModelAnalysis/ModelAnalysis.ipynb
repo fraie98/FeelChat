{
 "cells": [
  {
   "cell_type": "code",
   "execution_count": 1,
   "id": "77503491",
   "metadata": {},
   "outputs": [],
   "source": [
    "from sklearn.metrics import ConfusionMatrixDisplay\n",
    "from sklearn.metrics import accuracy_score\n",
    "\n",
    "import matplotlib.pyplot as plt\n",
    "\n",
    "import numpy as np\n",
    "\n",
    "from model_testing import *"
   ]
  },
  {
   "cell_type": "code",
   "execution_count": 2,
   "id": "44226def",
   "metadata": {},
   "outputs": [],
   "source": [
    "labels = ['neutral', 'angry', 'joy', 'sadness', 'fear'] # Models classes "
   ]
  },
  {
   "cell_type": "code",
   "execution_count": 3,
   "id": "57cff183",
   "metadata": {},
   "outputs": [],
   "source": [
    "# Parse the json files used for the test and extract the dataframe corrisponding to the msgs and audio \n",
    "df_text = test_text() \n",
    "df_audio = test_audio()"
   ]
  },
  {
   "cell_type": "code",
   "execution_count": 4,
   "id": "30bf076d",
   "metadata": {},
   "outputs": [],
   "source": [
    "df_text.Model_Label.loc[df_text.Model_Label == 'anger'] = 'angry'\n",
    "\n",
    "df_audio.Model_Label.loc[df_audio.Model_Label == 'sad'] = 'sadness'"
   ]
  },
  {
   "cell_type": "code",
   "execution_count": 5,
   "id": "5ba1370c",
   "metadata": {},
   "outputs": [
    {
     "data": {
      "text/html": [
       "<div>\n",
       "<style scoped>\n",
       "    .dataframe tbody tr th:only-of-type {\n",
       "        vertical-align: middle;\n",
       "    }\n",
       "\n",
       "    .dataframe tbody tr th {\n",
       "        vertical-align: top;\n",
       "    }\n",
       "\n",
       "    .dataframe thead th {\n",
       "        text-align: right;\n",
       "    }\n",
       "</style>\n",
       "<table border=\"1\" class=\"dataframe\">\n",
       "  <thead>\n",
       "    <tr style=\"text-align: right;\">\n",
       "      <th></th>\n",
       "      <th>Message</th>\n",
       "      <th>User_Label</th>\n",
       "      <th>Model_Label</th>\n",
       "    </tr>\n",
       "  </thead>\n",
       "  <tbody>\n",
       "    <tr>\n",
       "      <th>0</th>\n",
       "      <td>i'm here</td>\n",
       "      <td>neutral</td>\n",
       "      <td>neutral</td>\n",
       "    </tr>\n",
       "    <tr>\n",
       "      <th>1</th>\n",
       "      <td>i love this app</td>\n",
       "      <td>joy</td>\n",
       "      <td>joy</td>\n",
       "    </tr>\n",
       "    <tr>\n",
       "      <th>2</th>\n",
       "      <td>today it is a good day</td>\n",
       "      <td>joy</td>\n",
       "      <td>neutral</td>\n",
       "    </tr>\n",
       "    <tr>\n",
       "      <th>3</th>\n",
       "      <td>yess it's beautiful</td>\n",
       "      <td>joy</td>\n",
       "      <td>joy</td>\n",
       "    </tr>\n",
       "    <tr>\n",
       "      <th>4</th>\n",
       "      <td>yes because it's my birthday</td>\n",
       "      <td>joy</td>\n",
       "      <td>neutral</td>\n",
       "    </tr>\n",
       "  </tbody>\n",
       "</table>\n",
       "</div>"
      ],
      "text/plain": [
       "                         Message User_Label Model_Label\n",
       "0                       i'm here    neutral     neutral\n",
       "1                i love this app        joy         joy\n",
       "2         today it is a good day        joy     neutral\n",
       "3            yess it's beautiful        joy         joy\n",
       "4  yes because it's my birthday         joy     neutral"
      ]
     },
     "execution_count": 5,
     "metadata": {},
     "output_type": "execute_result"
    }
   ],
   "source": [
    "df_text.head()"
   ]
  },
  {
   "cell_type": "code",
   "execution_count": 6,
   "id": "c68cc332",
   "metadata": {},
   "outputs": [
    {
     "data": {
      "text/plain": [
       "<AxesSubplot:>"
      ]
     },
     "execution_count": 6,
     "metadata": {},
     "output_type": "execute_result"
    },
    {
     "data": {
      "image/png": "[encoded data removed]",
      "text/plain": [
       "<Figure size 432x288 with 1 Axes>"
      ]
     },
     "metadata": {
      "needs_background": "light"
     },
     "output_type": "display_data"
    }
   ],
   "source": [
    "round(df_text.User_Label.value_counts(normalize=True)*100,2).plot(kind='bar')"
   ]
  },
  {
   "cell_type": "code",
   "execution_count": 7,
   "id": "08963835",
   "metadata": {},
   "outputs": [
    {
     "data": {
      "text/html": [
       "<div>\n",
       "<style scoped>\n",
       "    .dataframe tbody tr th:only-of-type {\n",
       "        vertical-align: middle;\n",
       "    }\n",
       "\n",
       "    .dataframe tbody tr th {\n",
       "        vertical-align: top;\n",
       "    }\n",
       "\n",
       "    .dataframe thead th {\n",
       "        text-align: right;\n",
       "    }\n",
       "</style>\n",
       "<table border=\"1\" class=\"dataframe\">\n",
       "  <thead>\n",
       "    <tr style=\"text-align: right;\">\n",
       "      <th></th>\n",
       "      <th>Audio_Name</th>\n",
       "      <th>User_Label</th>\n",
       "      <th>Model_Label</th>\n",
       "    </tr>\n",
       "  </thead>\n",
       "  <tbody>\n",
       "    <tr>\n",
       "      <th>0</th>\n",
       "      <td>audio1653576430.wav</td>\n",
       "      <td>joy</td>\n",
       "      <td>neutral</td>\n",
       "    </tr>\n",
       "    <tr>\n",
       "      <th>1</th>\n",
       "      <td>audio1653584152.wav</td>\n",
       "      <td>angry</td>\n",
       "      <td>neutral</td>\n",
       "    </tr>\n",
       "    <tr>\n",
       "      <th>2</th>\n",
       "      <td>audio1653584184.wav</td>\n",
       "      <td>angry</td>\n",
       "      <td>neutral</td>\n",
       "    </tr>\n",
       "    <tr>\n",
       "      <th>3</th>\n",
       "      <td>audio1653577869.wav</td>\n",
       "      <td>joy</td>\n",
       "      <td>neutral</td>\n",
       "    </tr>\n",
       "    <tr>\n",
       "      <th>4</th>\n",
       "      <td>audio1653577894.wav</td>\n",
       "      <td>sadness</td>\n",
       "      <td>neutral</td>\n",
       "    </tr>\n",
       "    <tr>\n",
       "      <th>...</th>\n",
       "      <td>...</td>\n",
       "      <td>...</td>\n",
       "      <td>...</td>\n",
       "    </tr>\n",
       "    <tr>\n",
       "      <th>93</th>\n",
       "      <td>audio1653415771.wav</td>\n",
       "      <td>sadness</td>\n",
       "      <td>fear</td>\n",
       "    </tr>\n",
       "    <tr>\n",
       "      <th>94</th>\n",
       "      <td>audio1653415784.wav</td>\n",
       "      <td>joy</td>\n",
       "      <td>neutral</td>\n",
       "    </tr>\n",
       "    <tr>\n",
       "      <th>95</th>\n",
       "      <td>audio1653415810.wav</td>\n",
       "      <td>neutral</td>\n",
       "      <td>fear</td>\n",
       "    </tr>\n",
       "    <tr>\n",
       "      <th>96</th>\n",
       "      <td>audio1653415822.wav</td>\n",
       "      <td>fear</td>\n",
       "      <td>fear</td>\n",
       "    </tr>\n",
       "    <tr>\n",
       "      <th>97</th>\n",
       "      <td>audio1653415842.wav</td>\n",
       "      <td>angry</td>\n",
       "      <td>fear</td>\n",
       "    </tr>\n",
       "  </tbody>\n",
       "</table>\n",
       "<p>98 rows × 3 columns</p>\n",
       "</div>"
      ],
      "text/plain": [
       "             Audio_Name User_Label Model_Label\n",
       "0   audio1653576430.wav        joy     neutral\n",
       "1   audio1653584152.wav      angry     neutral\n",
       "2   audio1653584184.wav      angry     neutral\n",
       "3   audio1653577869.wav        joy     neutral\n",
       "4   audio1653577894.wav    sadness     neutral\n",
       "..                  ...        ...         ...\n",
       "93  audio1653415771.wav    sadness        fear\n",
       "94  audio1653415784.wav        joy     neutral\n",
       "95  audio1653415810.wav    neutral        fear\n",
       "96  audio1653415822.wav       fear        fear\n",
       "97  audio1653415842.wav      angry        fear\n",
       "\n",
       "[98 rows x 3 columns]"
      ]
     },
     "execution_count": 7,
     "metadata": {},
     "output_type": "execute_result"
    }
   ],
   "source": [
    "df_audio.head(100)"
   ]
  },
  {
   "cell_type": "code",
   "execution_count": 8,
   "id": "2f637150",
   "metadata": {},
   "outputs": [
    {
     "data": {
      "text/plain": [
       "<AxesSubplot:>"
      ]
     },
     "execution_count": 8,
     "metadata": {},
     "output_type": "execute_result"
    },
    {
     "data": {
      "image/png": "[encoded data removed]",
      "text/plain": [
       "<Figure size 432x288 with 1 Axes>"
      ]
     },
     "metadata": {
      "needs_background": "light"
     },
     "output_type": "display_data"
    }
   ],
   "source": [
    "round(df_audio.User_Label.value_counts(normalize=True)*100,2).plot(kind='bar')"
   ]
  },
  {
   "cell_type": "markdown",
   "id": "954c5a4c",
   "metadata": {},
   "source": [
    "---"
   ]
  },
  {
   "cell_type": "markdown",
   "id": "5205032d",
   "metadata": {},
   "source": [
    "## BALANCING"
   ]
  },
  {
   "cell_type": "code",
   "execution_count": 9,
   "id": "8804d4ec",
   "metadata": {},
   "outputs": [],
   "source": [
    "from imblearn.under_sampling import RandomUnderSampler\n",
    "\n",
    "rus = RandomUnderSampler(random_state=42)"
   ]
  },
  {
   "cell_type": "markdown",
   "id": "4b5b1816",
   "metadata": {},
   "source": [
    "### Balancing TEXT dataset"
   ]
  },
  {
   "cell_type": "code",
   "execution_count": 10,
   "id": "1ec383ae",
   "metadata": {},
   "outputs": [],
   "source": [
    "X_res_text, y_res_text = rus.fit_resample(df_text, df_text['User_Label'])"
   ]
  },
  {
   "cell_type": "code",
   "execution_count": 11,
   "id": "bd90da9d",
   "metadata": {},
   "outputs": [
    {
     "data": {
      "text/plain": [
       "<AxesSubplot:>"
      ]
     },
     "execution_count": 11,
     "metadata": {},
     "output_type": "execute_result"
    },
    {
     "data": {
      "image/png": "[encoded data removed]",
      "text/plain": [
       "<Figure size 432x288 with 1 Axes>"
      ]
     },
     "metadata": {
      "needs_background": "light"
     },
     "output_type": "display_data"
    }
   ],
   "source": [
    "round(X_res_text.User_Label.value_counts(normalize=True)*100,2).plot(kind='bar')"
   ]
  },
  {
   "cell_type": "markdown",
   "id": "fbcead3d",
   "metadata": {},
   "source": [
    "### Balancing AUDIO dataset"
   ]
  },
  {
   "cell_type": "code",
   "execution_count": 12,
   "id": "d8f77aaf",
   "metadata": {},
   "outputs": [],
   "source": [
    "if len((df_audio.User_Label.value_counts())) != 1:\n",
    "    X_res_audio, y_res_audio = rus.fit_resample(df_audio, df_audio['User_Label'])\n",
    "else:\n",
    "    X_res_audio = df_audio"
   ]
  },
  {
   "cell_type": "code",
   "execution_count": 13,
   "id": "dc40fa1d",
   "metadata": {},
   "outputs": [
    {
     "data": {
      "text/plain": [
       "<AxesSubplot:>"
      ]
     },
     "execution_count": 13,
     "metadata": {},
     "output_type": "execute_result"
    },
    {
     "data": {
      "image/png": "[encoded data removed]",
      "text/plain": [
       "<Figure size 432x288 with 1 Axes>"
      ]
     },
     "metadata": {
      "needs_background": "light"
     },
     "output_type": "display_data"
    }
   ],
   "source": [
    "round(X_res_audio.User_Label.value_counts(normalize=True)*100,2).plot(kind='bar')"
   ]
  },
  {
   "cell_type": "markdown",
   "id": "daafea3a",
   "metadata": {},
   "source": [
    "--- "
   ]
  },
  {
   "cell_type": "code",
   "execution_count": 18,
   "id": "8a4644f2",
   "metadata": {},
   "outputs": [],
   "source": [
    "from sklearn.metrics import precision_score\n",
    "from sklearn.metrics import recall_score\n",
    "from sklearn.metrics import f1_score\n",
    "from sklearn.metrics import classification_report"
   ]
  },
  {
   "cell_type": "code",
   "execution_count": 19,
   "id": "ac07b14d",
   "metadata": {},
   "outputs": [],
   "source": [
    "def compute_metrics(y_true, predictions):\n",
    "  average = \"macro\"\n",
    "  acc = accuracy_score(y_true, predictions)\n",
    "  precision = precision_score(y_true, predictions, average=average)\n",
    "  recall = recall_score(y_true, predictions, average=average)\n",
    "  f1 = f1_score(y_true, predictions, average=average)\n",
    "  print(f\"Model has acc = {acc}\\n, precision = {precision}\\n, recall = {recall}\\n, f1_score = {f1}\\n\")"
   ]
  },
  {
   "cell_type": "markdown",
   "id": "781c81a9",
   "metadata": {},
   "source": [
    "## Text metrics ##\n",
    "\n",
    "Compute the model accuracy score and display the confusion matrix on TEXT results. "
   ]
  },
  {
   "cell_type": "code",
   "execution_count": 20,
   "id": "bd2e1996",
   "metadata": {},
   "outputs": [],
   "source": [
    "y_user_text = X_res_text.User_Label\n",
    "y_model_text = X_res_text.Model_Label"
   ]
  },
  {
   "cell_type": "code",
   "execution_count": 21,
   "id": "be1696a2",
   "metadata": {},
   "outputs": [
    {
     "name": "stdout",
     "output_type": "stream",
     "text": [
      "Model accuracy on user labels: 0.38\n",
      "\n",
      "------------ CONFUSION MATRIX ------------\n"
     ]
    },
    {
     "data": {
      "image/png": "[encoded data removed]",
      "text/plain": [
       "<Figure size 432x288 with 2 Axes>"
      ]
     },
     "metadata": {
      "needs_background": "light"
     },
     "output_type": "display_data"
    }
   ],
   "source": [
    "# Compute the confusion matrix\n",
    "ConfusionMatrixDisplay.from_predictions(y_user_text, y_model_text, labels = labels, normalize='true', values_format='.2f')\n",
    "\n",
    "# Compute and print the accuracy score of the model\n",
    "print('Model accuracy on user labels: {:.2f}\\n'.format(accuracy_score(y_user_text, y_model_text)))\n",
    "\n",
    "print(\"------------ CONFUSION MATRIX ------------\")"
   ]
  },
  {
   "cell_type": "code",
   "execution_count": 22,
   "id": "41ceea1b",
   "metadata": {},
   "outputs": [
    {
     "name": "stdout",
     "output_type": "stream",
     "text": [
      "Model has acc = 0.375\n",
      ", precision = 0.49898107864278024\n",
      ", recall = 0.375\n",
      ", f1_score = 0.37870847657773077\n",
      "\n"
     ]
    }
   ],
   "source": [
    "compute_metrics(y_user_text, y_model_text)"
   ]
  },
  {
   "cell_type": "markdown",
   "id": "5f930b54",
   "metadata": {},
   "source": [
    "## Audio metrics ##\n",
    "\n",
    "Compute the model accuracy score and display the confusion matrix on AUDIO results. "
   ]
  },
  {
   "cell_type": "code",
   "execution_count": 23,
   "id": "3ad5f719",
   "metadata": {},
   "outputs": [],
   "source": [
    "y_user_audio = X_res_audio.User_Label\n",
    "y_model_audio = X_res_audio.Model_Label"
   ]
  },
  {
   "cell_type": "code",
   "execution_count": 24,
   "id": "719aae66",
   "metadata": {},
   "outputs": [
    {
     "name": "stdout",
     "output_type": "stream",
     "text": [
      "Model accuracy on user labels: 0.32\n",
      "\n",
      "------------ CONFUSION MATRIX ------------\n"
     ]
    },
    {
     "data": {
      "image/png": "[encoded data removed]",
      "text/plain": [
       "<Figure size 432x288 with 2 Axes>"
      ]
     },
     "metadata": {
      "needs_background": "light"
     },
     "output_type": "display_data"
    }
   ],
   "source": [
    "# Compute the confusion matrix\n",
    "ConfusionMatrixDisplay.from_predictions(y_user_audio, y_model_audio, labels = labels, normalize='true', values_format='.2f')\n",
    "\n",
    "# Compute and print the accuracy score of the model\n",
    "print('Model accuracy on user labels: {:.2f}\\n'.format(accuracy_score(y_user_audio, y_model_audio)))\n",
    "\n",
    "print(\"------------ CONFUSION MATRIX ------------\")"
   ]
  },
  {
   "cell_type": "code",
   "execution_count": 25,
   "id": "0c2d231a",
   "metadata": {},
   "outputs": [
    {
     "name": "stdout",
     "output_type": "stream",
     "text": [
      "Model has acc = 0.32\n",
      ", precision = 0.30244252873563215\n",
      ", recall = 0.32\n",
      ", f1_score = 0.2435897435897436\n",
      "\n"
     ]
    },
    {
     "name": "stderr",
     "output_type": "stream",
     "text": [
      "/opt/anaconda3/envs/MobileProject/lib/python3.10/site-packages/sklearn/metrics/_classification.py:1327: UndefinedMetricWarning: Precision is ill-defined and being set to 0.0 in labels with no predicted samples. Use `zero_division` parameter to control this behavior.\n",
      "  _warn_prf(average, modifier, msg_start, len(result))\n"
     ]
    }
   ],
   "source": [
    "compute_metrics(y_user_audio, y_model_audio)"
   ]
  },
  {
   "cell_type": "code",
   "execution_count": null,
   "id": "5bab97b5",
   "metadata": {},
   "outputs": [],
   "source": []
  }
 ],
 "metadata": {
  "kernelspec": {
   "display_name": "Python 3 (ipykernel)",
   "language": "python",
   "name": "python3"
  },
  "language_info": {
   "codemirror_mode": {
    "name": "ipython",
    "version": 3
   },
   "file_extension": ".py",
   "mimetype": "text/x-python",
   "name": "python",
   "nbconvert_exporter": "python",
   "pygments_lexer": "ipython3",
   "version": "3.10.4"
  }
 },
 "nbformat": 4,
 "nbformat_minor": 5
}
