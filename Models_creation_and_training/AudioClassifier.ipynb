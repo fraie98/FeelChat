{
 "cells": [
  {
   "cell_type": "markdown",
   "id": "46370b51",
   "metadata": {},
   "source": [
    "The training has been based on the github repo: https://github.com/x4nth055/emotion-recognition-using-speech"
   ]
  },
  {
   "cell_type": "code",
   "execution_count": 28,
   "id": "ee609ccc",
   "metadata": {},
   "outputs": [],
   "source": [
    "from emotion_recognition import EmotionRecognizer\n",
    "from sklearn.neural_network import MLPClassifier\n",
    "import pickle\n",
    "import warnings\n",
    "warnings.filterwarnings('ignore')"
   ]
  },
  {
   "cell_type": "code",
   "execution_count": 29,
   "id": "f2746b34",
   "metadata": {},
   "outputs": [
    {
     "name": "stdout",
     "output_type": "stream",
     "text": [
      "[+] Model trained\n",
      "Test score: 0.7795620437956204\n",
      "Train score: 0.9436260623229462\n"
     ]
    }
   ],
   "source": [
    "# init a model, let's use SVC\n",
    "my_model = MLPClassifier()\n",
    "# pass my model to EmotionRecognizer instance\n",
    "# and balance the dataset\n",
    "rec = EmotionRecognizer(model=my_model, emotions=['sad', 'neutral', 'happy', 'angry', 'fear'], balance=True, verbose=0)\n",
    "# train the model\n",
    "rec.train()\n",
    "# check the test accuracy for that model\n",
    "print(\"Test score:\", rec.test_score())\n",
    "# check the train accuracy for that model\n",
    "print(\"Train score:\", rec.train_score())"
   ]
  },
  {
   "cell_type": "code",
   "execution_count": 30,
   "id": "134bb7d7",
   "metadata": {},
   "outputs": [
    {
     "name": "stdout",
     "output_type": "stream",
     "text": [
      "Prediction: neutral\n",
      "Prediction: happy\n"
     ]
    }
   ],
   "source": [
    "# this is a neutral speech from emo-db from the testing set\n",
    "print(\"Prediction:\", rec.predict(\"data/emodb/wav/15a04Nc.wav\"))\n",
    "# this is a happy speech from TESS from the testing set\n",
    "print(\"Prediction:\", rec.predict(\"data/validation/Actor_07/03-02-03-01-01-02-07_happy.wav\"))"
   ]
  },
  {
   "cell_type": "code",
   "execution_count": 31,
   "id": "4d3c557a",
   "metadata": {},
   "outputs": [
    {
     "data": {
      "text/html": [
       "<div>\n",
       "<style scoped>\n",
       "    .dataframe tbody tr th:only-of-type {\n",
       "        vertical-align: middle;\n",
       "    }\n",
       "\n",
       "    .dataframe tbody tr th {\n",
       "        vertical-align: top;\n",
       "    }\n",
       "\n",
       "    .dataframe thead th {\n",
       "        text-align: right;\n",
       "    }\n",
       "</style>\n",
       "<table border=\"1\" class=\"dataframe\">\n",
       "  <thead>\n",
       "    <tr style=\"text-align: right;\">\n",
       "      <th></th>\n",
       "      <th>predicted_sad</th>\n",
       "      <th>predicted_neutral</th>\n",
       "      <th>predicted_happy</th>\n",
       "      <th>predicted_angry</th>\n",
       "      <th>predicted_fear</th>\n",
       "    </tr>\n",
       "  </thead>\n",
       "  <tbody>\n",
       "    <tr>\n",
       "      <th>true_sad</th>\n",
       "      <td>78.102188</td>\n",
       "      <td>6.569343</td>\n",
       "      <td>2.919708</td>\n",
       "      <td>5.109489</td>\n",
       "      <td>7.299270</td>\n",
       "    </tr>\n",
       "    <tr>\n",
       "      <th>true_neutral</th>\n",
       "      <td>5.839416</td>\n",
       "      <td>75.912407</td>\n",
       "      <td>2.919708</td>\n",
       "      <td>13.868613</td>\n",
       "      <td>1.459854</td>\n",
       "    </tr>\n",
       "    <tr>\n",
       "      <th>true_happy</th>\n",
       "      <td>6.569343</td>\n",
       "      <td>5.109489</td>\n",
       "      <td>73.722626</td>\n",
       "      <td>6.569343</td>\n",
       "      <td>8.029197</td>\n",
       "    </tr>\n",
       "    <tr>\n",
       "      <th>true_angry</th>\n",
       "      <td>0.000000</td>\n",
       "      <td>2.189781</td>\n",
       "      <td>1.459854</td>\n",
       "      <td>87.591240</td>\n",
       "      <td>8.759124</td>\n",
       "    </tr>\n",
       "    <tr>\n",
       "      <th>true_fear</th>\n",
       "      <td>13.138686</td>\n",
       "      <td>0.729927</td>\n",
       "      <td>2.189781</td>\n",
       "      <td>9.489051</td>\n",
       "      <td>74.452553</td>\n",
       "    </tr>\n",
       "  </tbody>\n",
       "</table>\n",
       "</div>"
      ],
      "text/plain": [
       "              predicted_sad  predicted_neutral  predicted_happy  \\\n",
       "true_sad          78.102188           6.569343         2.919708   \n",
       "true_neutral       5.839416          75.912407         2.919708   \n",
       "true_happy         6.569343           5.109489        73.722626   \n",
       "true_angry         0.000000           2.189781         1.459854   \n",
       "true_fear         13.138686           0.729927         2.189781   \n",
       "\n",
       "              predicted_angry  predicted_fear  \n",
       "true_sad             5.109489        7.299270  \n",
       "true_neutral        13.868613        1.459854  \n",
       "true_happy           6.569343        8.029197  \n",
       "true_angry          87.591240        8.759124  \n",
       "true_fear            9.489051       74.452553  "
      ]
     },
     "execution_count": 31,
     "metadata": {},
     "output_type": "execute_result"
    }
   ],
   "source": [
    "rec.confusion_matrix(percentage=True, labeled=True)"
   ]
  },
  {
   "cell_type": "code",
   "execution_count": 32,
   "id": "845d2d1a",
   "metadata": {},
   "outputs": [],
   "source": [
    "pickle.dump(rec.model,open('mlp_model.pkl','wb'))"
   ]
  }
 ],
 "metadata": {
  "interpreter": {
   "hash": "82de7f17b6676ad9efdf7b172066d20c90eed8c3574854c5abc95c907e8ebf46"
  },
  "kernelspec": {
   "display_name": "Python 3 (ipykernel)",
   "language": "python",
   "name": "python3"
  },
  "language_info": {
   "codemirror_mode": {
    "name": "ipython",
    "version": 3
   },
   "file_extension": ".py",
   "mimetype": "text/x-python",
   "name": "python",
   "nbconvert_exporter": "python",
   "pygments_lexer": "ipython3",
   "version": "3.10.4"
  }
 },
 "nbformat": 4,
 "nbformat_minor": 5
}
