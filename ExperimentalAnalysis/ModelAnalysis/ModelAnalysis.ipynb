{
 "cells": [
  {
   "cell_type": "code",
   "execution_count": 1,
   "id": "77503491",
   "metadata": {},
   "outputs": [],
   "source": [
    "from sklearn.metrics import ConfusionMatrixDisplay\n",
    "from sklearn.metrics import accuracy_score\n",
    "\n",
    "from model_testing import *"
   ]
  },
  {
   "cell_type": "code",
   "execution_count": 2,
   "id": "44226def",
   "metadata": {},
   "outputs": [],
   "source": [
    "labels = ['neutral', 'angry', 'joy', 'sad', 'fear'] # Models classes "
   ]
  },
  {
   "cell_type": "code",
   "execution_count": 3,
   "id": "57cff183",
   "metadata": {},
   "outputs": [],
   "source": [
    "# Parse the json files used for the test and extract the dataframe corrisponding to the msgs and audio \n",
    "df_text = test_text() \n",
    "df_audio = test_audio()"
   ]
  },
  {
   "cell_type": "code",
   "execution_count": 4,
   "id": "5ba1370c",
   "metadata": {},
   "outputs": [
    {
     "data": {
      "text/html": [
       "<div>\n",
       "<style scoped>\n",
       "    .dataframe tbody tr th:only-of-type {\n",
       "        vertical-align: middle;\n",
       "    }\n",
       "\n",
       "    .dataframe tbody tr th {\n",
       "        vertical-align: top;\n",
       "    }\n",
       "\n",
       "    .dataframe thead th {\n",
       "        text-align: right;\n",
       "    }\n",
       "</style>\n",
       "<table border=\"1\" class=\"dataframe\">\n",
       "  <thead>\n",
       "    <tr style=\"text-align: right;\">\n",
       "      <th></th>\n",
       "      <th>Message</th>\n",
       "      <th>User_Label</th>\n",
       "      <th>Model_Label</th>\n",
       "    </tr>\n",
       "  </thead>\n",
       "  <tbody>\n",
       "    <tr>\n",
       "      <th>0</th>\n",
       "      <td>hey, how are you?</td>\n",
       "      <td>angry</td>\n",
       "      <td>neutral</td>\n",
       "    </tr>\n",
       "    <tr>\n",
       "      <th>1</th>\n",
       "      <td>Today I had a beautiful day</td>\n",
       "      <td>joy</td>\n",
       "      <td>joy</td>\n",
       "    </tr>\n",
       "    <tr>\n",
       "      <th>2</th>\n",
       "      <td>It is a sunny day</td>\n",
       "      <td>neutral</td>\n",
       "      <td>joy</td>\n",
       "    </tr>\n",
       "    <tr>\n",
       "      <th>3</th>\n",
       "      <td>I am going to run since it is a nice day and i...</td>\n",
       "      <td>neutral</td>\n",
       "      <td>neutral</td>\n",
       "    </tr>\n",
       "    <tr>\n",
       "      <th>4</th>\n",
       "      <td>This evening I will go out with my friends!!</td>\n",
       "      <td>neutral</td>\n",
       "      <td>neutral</td>\n",
       "    </tr>\n",
       "  </tbody>\n",
       "</table>\n",
       "</div>"
      ],
      "text/plain": [
       "                                             Message User_Label Model_Label\n",
       "0                                  hey, how are you?      angry     neutral\n",
       "1                        Today I had a beautiful day        joy         joy\n",
       "2                                  It is a sunny day    neutral         joy\n",
       "3  I am going to run since it is a nice day and i...    neutral     neutral\n",
       "4       This evening I will go out with my friends!!    neutral     neutral"
      ]
     },
     "execution_count": 4,
     "metadata": {},
     "output_type": "execute_result"
    }
   ],
   "source": [
    "df_text.head()"
   ]
  },
  {
   "cell_type": "code",
   "execution_count": 5,
   "id": "08963835",
   "metadata": {},
   "outputs": [
    {
     "data": {
      "text/html": [
       "<div>\n",
       "<style scoped>\n",
       "    .dataframe tbody tr th:only-of-type {\n",
       "        vertical-align: middle;\n",
       "    }\n",
       "\n",
       "    .dataframe tbody tr th {\n",
       "        vertical-align: top;\n",
       "    }\n",
       "\n",
       "    .dataframe thead th {\n",
       "        text-align: right;\n",
       "    }\n",
       "</style>\n",
       "<table border=\"1\" class=\"dataframe\">\n",
       "  <thead>\n",
       "    <tr style=\"text-align: right;\">\n",
       "      <th></th>\n",
       "      <th>Audio_Name</th>\n",
       "      <th>User_Label</th>\n",
       "      <th>Model_Label</th>\n",
       "    </tr>\n",
       "  </thead>\n",
       "  <tbody>\n",
       "    <tr>\n",
       "      <th>0</th>\n",
       "      <td>audio1653056452.wav</td>\n",
       "      <td>neutral</td>\n",
       "      <td>neutral</td>\n",
       "    </tr>\n",
       "    <tr>\n",
       "      <th>1</th>\n",
       "      <td>audio1653056466.wav</td>\n",
       "      <td>neutral</td>\n",
       "      <td>neutral</td>\n",
       "    </tr>\n",
       "    <tr>\n",
       "      <th>2</th>\n",
       "      <td>audio1653056479.wav</td>\n",
       "      <td>neutral</td>\n",
       "      <td>neutral</td>\n",
       "    </tr>\n",
       "    <tr>\n",
       "      <th>3</th>\n",
       "      <td>audio1653056494.wav</td>\n",
       "      <td>neutral</td>\n",
       "      <td>neutral</td>\n",
       "    </tr>\n",
       "    <tr>\n",
       "      <th>4</th>\n",
       "      <td>audio1653056507.wav</td>\n",
       "      <td>neutral</td>\n",
       "      <td>neutral</td>\n",
       "    </tr>\n",
       "  </tbody>\n",
       "</table>\n",
       "</div>"
      ],
      "text/plain": [
       "            Audio_Name User_Label Model_Label\n",
       "0  audio1653056452.wav    neutral     neutral\n",
       "1  audio1653056466.wav    neutral     neutral\n",
       "2  audio1653056479.wav    neutral     neutral\n",
       "3  audio1653056494.wav    neutral     neutral\n",
       "4  audio1653056507.wav    neutral     neutral"
      ]
     },
     "execution_count": 5,
     "metadata": {},
     "output_type": "execute_result"
    }
   ],
   "source": [
    "df_audio.head()"
   ]
  },
  {
   "cell_type": "markdown",
   "id": "781c81a9",
   "metadata": {},
   "source": [
    "## Text metrics ##\n",
    "\n",
    "Compute the model accuracy score and display the confusion matrix on TEXT results. "
   ]
  },
  {
   "cell_type": "code",
   "execution_count": 6,
   "id": "bd2e1996",
   "metadata": {},
   "outputs": [],
   "source": [
    "y_user_text = df_text.User_Label\n",
    "y_model_text = df_text.Model_Label"
   ]
  },
  {
   "cell_type": "code",
   "execution_count": 7,
   "id": "be1696a2",
   "metadata": {},
   "outputs": [
    {
     "name": "stdout",
     "output_type": "stream",
     "text": [
      "Model accuracy on user labels: 0.52\n",
      "\n",
      "------------ CONFUSION MATRIX ------------\n"
     ]
    },
    {
     "data": {
      "image/png": "[encoded data removed]",
      "text/plain": [
       "<Figure size 432x288 with 2 Axes>"
      ]
     },
     "metadata": {
      "needs_background": "light"
     },
     "output_type": "display_data"
    }
   ],
   "source": [
    "# Compute the confusion matrix\n",
    "ConfusionMatrixDisplay.from_predictions(y_user_text, y_model_text, labels = labels, normalize='true', values_format='.2f')\n",
    "\n",
    "# Compute and print the accuracy score of the model\n",
    "print('Model accuracy on user labels: {:.2f}\\n'.format(accuracy_score(y_user_text, y_model_text)))\n",
    "\n",
    "print(\"------------ CONFUSION MATRIX ------------\")"
   ]
  },
  {
   "cell_type": "markdown",
   "id": "5f930b54",
   "metadata": {},
   "source": [
    "## Audio metrics ##\n",
    "\n",
    "Compute the model accuracy score and display the confusion matrix on AUDIO results. "
   ]
  },
  {
   "cell_type": "code",
   "execution_count": 8,
   "id": "3ad5f719",
   "metadata": {},
   "outputs": [],
   "source": [
    "y_user_audio = df_audio.User_Label\n",
    "y_model_audio = df_audio.Model_Label"
   ]
  },
  {
   "cell_type": "code",
   "execution_count": 9,
   "id": "719aae66",
   "metadata": {},
   "outputs": [
    {
     "name": "stdout",
     "output_type": "stream",
     "text": [
      "Model accuracy on user labels: 1.00\n",
      "\n",
      "------------ CONFUSION MATRIX ------------\n"
     ]
    },
    {
     "data": {
      "image/png": "[encoded data removed]",
      "text/plain": [
       "<Figure size 432x288 with 2 Axes>"
      ]
     },
     "metadata": {
      "needs_background": "light"
     },
     "output_type": "display_data"
    }
   ],
   "source": [
    "# Compute the confusion matrix\n",
    "ConfusionMatrixDisplay.from_predictions(y_user_audio, y_model_audio, labels = labels, normalize='true', values_format='.2f')\n",
    "\n",
    "# Compute and print the accuracy score of the model\n",
    "print('Model accuracy on user labels: {:.2f}\\n'.format(accuracy_score(y_user_audio, y_model_audio)))\n",
    "\n",
    "print(\"------------ CONFUSION MATRIX ------------\")"
   ]
  }
 ],
 "metadata": {
  "kernelspec": {
   "display_name": "Python 3 (ipykernel)",
   "language": "python",
   "name": "python3"
  },
  "language_info": {
   "codemirror_mode": {
    "name": "ipython",
    "version": 3
   },
   "file_extension": ".py",
   "mimetype": "text/x-python",
   "name": "python",
   "nbconvert_exporter": "python",
   "pygments_lexer": "ipython3",
   "version": "3.10.4"
  }
 },
 "nbformat": 4,
 "nbformat_minor": 5
}
