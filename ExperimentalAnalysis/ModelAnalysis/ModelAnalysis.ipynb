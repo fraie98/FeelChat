{
 "cells": [
  {
   "cell_type": "code",
   "execution_count": 16,
   "id": "77503491",
   "metadata": {},
   "outputs": [],
   "source": [
    "from sklearn.metrics import ConfusionMatrixDisplay\n",
    "from sklearn.metrics import accuracy_score\n",
    "\n",
    "import matplotlib.pyplot as plt\n",
    "\n",
    "from model_testing import *"
   ]
  },
  {
   "cell_type": "code",
   "execution_count": 2,
   "id": "44226def",
   "metadata": {},
   "outputs": [],
   "source": [
    "labels = ['neutral', 'angry', 'joy', 'sad', 'fear'] # Models classes "
   ]
  },
  {
   "cell_type": "code",
   "execution_count": 3,
   "id": "57cff183",
   "metadata": {},
   "outputs": [],
   "source": [
    "# Parse the json files used for the test and extract the dataframe corrisponding to the msgs and audio \n",
    "df_text = test_text() \n",
    "df_audio = test_audio()"
   ]
  },
  {
   "cell_type": "code",
   "execution_count": 4,
   "id": "5ba1370c",
   "metadata": {},
   "outputs": [
    {
     "data": {
      "text/html": [
       "<div>\n",
       "<style scoped>\n",
       "    .dataframe tbody tr th:only-of-type {\n",
       "        vertical-align: middle;\n",
       "    }\n",
       "\n",
       "    .dataframe tbody tr th {\n",
       "        vertical-align: top;\n",
       "    }\n",
       "\n",
       "    .dataframe thead th {\n",
       "        text-align: right;\n",
       "    }\n",
       "</style>\n",
       "<table border=\"1\" class=\"dataframe\">\n",
       "  <thead>\n",
       "    <tr style=\"text-align: right;\">\n",
       "      <th></th>\n",
       "      <th>Message</th>\n",
       "      <th>User_Label</th>\n",
       "      <th>Model_Label</th>\n",
       "    </tr>\n",
       "  </thead>\n",
       "  <tbody>\n",
       "    <tr>\n",
       "      <th>0</th>\n",
       "      <td>hey, how are you?</td>\n",
       "      <td>angry</td>\n",
       "      <td>neutral</td>\n",
       "    </tr>\n",
       "    <tr>\n",
       "      <th>1</th>\n",
       "      <td>Today I had a beautiful day</td>\n",
       "      <td>joy</td>\n",
       "      <td>joy</td>\n",
       "    </tr>\n",
       "    <tr>\n",
       "      <th>2</th>\n",
       "      <td>It is a sunny day</td>\n",
       "      <td>neutral</td>\n",
       "      <td>joy</td>\n",
       "    </tr>\n",
       "    <tr>\n",
       "      <th>3</th>\n",
       "      <td>I am going to run since it is a nice day and i...</td>\n",
       "      <td>neutral</td>\n",
       "      <td>neutral</td>\n",
       "    </tr>\n",
       "    <tr>\n",
       "      <th>4</th>\n",
       "      <td>This evening I will go out with my friends!!</td>\n",
       "      <td>neutral</td>\n",
       "      <td>neutral</td>\n",
       "    </tr>\n",
       "  </tbody>\n",
       "</table>\n",
       "</div>"
      ],
      "text/plain": [
       "                                             Message User_Label Model_Label\n",
       "0                                  hey, how are you?      angry     neutral\n",
       "1                        Today I had a beautiful day        joy         joy\n",
       "2                                  It is a sunny day    neutral         joy\n",
       "3  I am going to run since it is a nice day and i...    neutral     neutral\n",
       "4       This evening I will go out with my friends!!    neutral     neutral"
      ]
     },
     "execution_count": 4,
     "metadata": {},
     "output_type": "execute_result"
    }
   ],
   "source": [
    "df_text.head()"
   ]
  },
  {
   "cell_type": "code",
   "execution_count": 79,
   "id": "c68cc332",
   "metadata": {},
   "outputs": [
    {
     "data": {
      "text/plain": [
       "<AxesSubplot:>"
      ]
     },
     "execution_count": 79,
     "metadata": {},
     "output_type": "execute_result"
    },
    {
     "data": {
      "image/png": "[encoded data removed]",
      "text/plain": [
       "<Figure size 432x288 with 1 Axes>"
      ]
     },
     "metadata": {
      "needs_background": "light"
     },
     "output_type": "display_data"
    }
   ],
   "source": [
    "round(df_text.Model_Label.value_counts(normalize=True)*100,2).plot(kind='bar')"
   ]
  },
  {
   "cell_type": "code",
   "execution_count": 5,
   "id": "08963835",
   "metadata": {},
   "outputs": [
    {
     "data": {
      "text/html": [
       "<div>\n",
       "<style scoped>\n",
       "    .dataframe tbody tr th:only-of-type {\n",
       "        vertical-align: middle;\n",
       "    }\n",
       "\n",
       "    .dataframe tbody tr th {\n",
       "        vertical-align: top;\n",
       "    }\n",
       "\n",
       "    .dataframe thead th {\n",
       "        text-align: right;\n",
       "    }\n",
       "</style>\n",
       "<table border=\"1\" class=\"dataframe\">\n",
       "  <thead>\n",
       "    <tr style=\"text-align: right;\">\n",
       "      <th></th>\n",
       "      <th>Audio_Name</th>\n",
       "      <th>User_Label</th>\n",
       "      <th>Model_Label</th>\n",
       "    </tr>\n",
       "  </thead>\n",
       "  <tbody>\n",
       "    <tr>\n",
       "      <th>0</th>\n",
       "      <td>audio1653056452.wav</td>\n",
       "      <td>neutral</td>\n",
       "      <td>neutral</td>\n",
       "    </tr>\n",
       "    <tr>\n",
       "      <th>1</th>\n",
       "      <td>audio1653056466.wav</td>\n",
       "      <td>neutral</td>\n",
       "      <td>neutral</td>\n",
       "    </tr>\n",
       "    <tr>\n",
       "      <th>2</th>\n",
       "      <td>audio1653056479.wav</td>\n",
       "      <td>neutral</td>\n",
       "      <td>neutral</td>\n",
       "    </tr>\n",
       "    <tr>\n",
       "      <th>3</th>\n",
       "      <td>audio1653056494.wav</td>\n",
       "      <td>neutral</td>\n",
       "      <td>neutral</td>\n",
       "    </tr>\n",
       "    <tr>\n",
       "      <th>4</th>\n",
       "      <td>audio1653056507.wav</td>\n",
       "      <td>neutral</td>\n",
       "      <td>neutral</td>\n",
       "    </tr>\n",
       "  </tbody>\n",
       "</table>\n",
       "</div>"
      ],
      "text/plain": [
       "            Audio_Name User_Label Model_Label\n",
       "0  audio1653056452.wav    neutral     neutral\n",
       "1  audio1653056466.wav    neutral     neutral\n",
       "2  audio1653056479.wav    neutral     neutral\n",
       "3  audio1653056494.wav    neutral     neutral\n",
       "4  audio1653056507.wav    neutral     neutral"
      ]
     },
     "execution_count": 5,
     "metadata": {},
     "output_type": "execute_result"
    }
   ],
   "source": [
    "df_audio.head()"
   ]
  },
  {
   "cell_type": "code",
   "execution_count": 21,
   "id": "2f637150",
   "metadata": {},
   "outputs": [
    {
     "data": {
      "text/plain": [
       "<AxesSubplot:>"
      ]
     },
     "execution_count": 21,
     "metadata": {},
     "output_type": "execute_result"
    },
    {
     "data": {
      "image/png": "[encoded data removed]",
      "text/plain": [
       "<Figure size 432x288 with 1 Axes>"
      ]
     },
     "metadata": {
      "needs_background": "light"
     },
     "output_type": "display_data"
    }
   ],
   "source": [
    "round(df_audio.Model_Label.value_counts(normalize=True)*100,2).plot(kind='bar')"
   ]
  },
  {
   "cell_type": "markdown",
   "id": "954c5a4c",
   "metadata": {},
   "source": [
    "---"
   ]
  },
  {
   "cell_type": "markdown",
   "id": "5205032d",
   "metadata": {},
   "source": [
    "## BALANCING"
   ]
  },
  {
   "cell_type": "code",
   "execution_count": 82,
   "id": "8804d4ec",
   "metadata": {},
   "outputs": [],
   "source": [
    "from imblearn.under_sampling import RandomUnderSampler\n",
    "\n",
    "rus = RandomUnderSampler(random_state=42)"
   ]
  },
  {
   "cell_type": "markdown",
   "id": "4b5b1816",
   "metadata": {},
   "source": [
    "### Balancing TEXT dataset"
   ]
  },
  {
   "cell_type": "code",
   "execution_count": 91,
   "id": "d5f28c6d",
   "metadata": {},
   "outputs": [],
   "source": [
    "X_res_text, y_res_text = rus.fit_resample(df_text, df_text['User_Label'])"
   ]
  },
  {
   "cell_type": "code",
   "execution_count": 93,
   "id": "eefad0b4",
   "metadata": {},
   "outputs": [
    {
     "data": {
      "text/html": [
       "<div>\n",
       "<style scoped>\n",
       "    .dataframe tbody tr th:only-of-type {\n",
       "        vertical-align: middle;\n",
       "    }\n",
       "\n",
       "    .dataframe tbody tr th {\n",
       "        vertical-align: top;\n",
       "    }\n",
       "\n",
       "    .dataframe thead th {\n",
       "        text-align: right;\n",
       "    }\n",
       "</style>\n",
       "<table border=\"1\" class=\"dataframe\">\n",
       "  <thead>\n",
       "    <tr style=\"text-align: right;\">\n",
       "      <th></th>\n",
       "      <th>Message</th>\n",
       "      <th>User_Label</th>\n",
       "      <th>Model_Label</th>\n",
       "    </tr>\n",
       "  </thead>\n",
       "  <tbody>\n",
       "    <tr>\n",
       "      <th>0</th>\n",
       "      <td>hey, how are you?</td>\n",
       "      <td>angry</td>\n",
       "      <td>neutral</td>\n",
       "    </tr>\n",
       "    <tr>\n",
       "      <th>1</th>\n",
       "      <td>sss</td>\n",
       "      <td>angry</td>\n",
       "      <td>neutral</td>\n",
       "    </tr>\n",
       "    <tr>\n",
       "      <th>2</th>\n",
       "      <td>Today I had a beautiful day</td>\n",
       "      <td>joy</td>\n",
       "      <td>joy</td>\n",
       "    </tr>\n",
       "    <tr>\n",
       "      <th>3</th>\n",
       "      <td>test4scroll</td>\n",
       "      <td>joy</td>\n",
       "      <td>neutral</td>\n",
       "    </tr>\n",
       "    <tr>\n",
       "      <th>4</th>\n",
       "      <td>It is a sunny day</td>\n",
       "      <td>neutral</td>\n",
       "      <td>joy</td>\n",
       "    </tr>\n",
       "    <tr>\n",
       "      <th>5</th>\n",
       "      <td>test6scroll</td>\n",
       "      <td>neutral</td>\n",
       "      <td>neutral</td>\n",
       "    </tr>\n",
       "  </tbody>\n",
       "</table>\n",
       "</div>"
      ],
      "text/plain": [
       "                       Message User_Label Model_Label\n",
       "0            hey, how are you?      angry     neutral\n",
       "1                          sss      angry     neutral\n",
       "2  Today I had a beautiful day        joy         joy\n",
       "3                  test4scroll        joy     neutral\n",
       "4            It is a sunny day    neutral         joy\n",
       "5                  test6scroll    neutral     neutral"
      ]
     },
     "execution_count": 93,
     "metadata": {},
     "output_type": "execute_result"
    }
   ],
   "source": [
    "X_res_text.head(100)"
   ]
  },
  {
   "cell_type": "markdown",
   "id": "fbcead3d",
   "metadata": {},
   "source": [
    "### Balancing AUDIO dataset"
   ]
  },
  {
   "cell_type": "code",
   "execution_count": 100,
   "id": "d8f77aaf",
   "metadata": {},
   "outputs": [],
   "source": [
    "if len((df_audio.User_Label.value_counts())) != 1:\n",
    "    X_res_audio, y_res_audio = rus.fit_resample(df_audio, df_audio['User_Label'])\n",
    "else:\n",
    "    X_res_audio = df_audio"
   ]
  },
  {
   "cell_type": "code",
   "execution_count": 101,
   "id": "dc40fa1d",
   "metadata": {},
   "outputs": [
    {
     "data": {
      "text/html": [
       "<div>\n",
       "<style scoped>\n",
       "    .dataframe tbody tr th:only-of-type {\n",
       "        vertical-align: middle;\n",
       "    }\n",
       "\n",
       "    .dataframe tbody tr th {\n",
       "        vertical-align: top;\n",
       "    }\n",
       "\n",
       "    .dataframe thead th {\n",
       "        text-align: right;\n",
       "    }\n",
       "</style>\n",
       "<table border=\"1\" class=\"dataframe\">\n",
       "  <thead>\n",
       "    <tr style=\"text-align: right;\">\n",
       "      <th></th>\n",
       "      <th>Audio_Name</th>\n",
       "      <th>User_Label</th>\n",
       "      <th>Model_Label</th>\n",
       "    </tr>\n",
       "  </thead>\n",
       "  <tbody>\n",
       "    <tr>\n",
       "      <th>0</th>\n",
       "      <td>audio1653056452.wav</td>\n",
       "      <td>neutral</td>\n",
       "      <td>neutral</td>\n",
       "    </tr>\n",
       "    <tr>\n",
       "      <th>1</th>\n",
       "      <td>audio1653056466.wav</td>\n",
       "      <td>neutral</td>\n",
       "      <td>neutral</td>\n",
       "    </tr>\n",
       "    <tr>\n",
       "      <th>2</th>\n",
       "      <td>audio1653056479.wav</td>\n",
       "      <td>neutral</td>\n",
       "      <td>neutral</td>\n",
       "    </tr>\n",
       "    <tr>\n",
       "      <th>3</th>\n",
       "      <td>audio1653056494.wav</td>\n",
       "      <td>neutral</td>\n",
       "      <td>neutral</td>\n",
       "    </tr>\n",
       "    <tr>\n",
       "      <th>4</th>\n",
       "      <td>audio1653056507.wav</td>\n",
       "      <td>neutral</td>\n",
       "      <td>neutral</td>\n",
       "    </tr>\n",
       "  </tbody>\n",
       "</table>\n",
       "</div>"
      ],
      "text/plain": [
       "            Audio_Name User_Label Model_Label\n",
       "0  audio1653056452.wav    neutral     neutral\n",
       "1  audio1653056466.wav    neutral     neutral\n",
       "2  audio1653056479.wav    neutral     neutral\n",
       "3  audio1653056494.wav    neutral     neutral\n",
       "4  audio1653056507.wav    neutral     neutral"
      ]
     },
     "execution_count": 101,
     "metadata": {},
     "output_type": "execute_result"
    }
   ],
   "source": [
    "X_res_audio.head(100)"
   ]
  },
  {
   "cell_type": "markdown",
   "id": "daafea3a",
   "metadata": {},
   "source": [
    "--- "
   ]
  },
  {
   "cell_type": "markdown",
   "id": "781c81a9",
   "metadata": {},
   "source": [
    "## Text metrics ##\n",
    "\n",
    "Compute the model accuracy score and display the confusion matrix on TEXT results. "
   ]
  },
  {
   "cell_type": "code",
   "execution_count": 102,
   "id": "bd2e1996",
   "metadata": {},
   "outputs": [],
   "source": [
    "y_user_text = X_res_text.User_Label\n",
    "y_model_text = X_res_text.Model_Label"
   ]
  },
  {
   "cell_type": "code",
   "execution_count": 103,
   "id": "be1696a2",
   "metadata": {},
   "outputs": [
    {
     "name": "stdout",
     "output_type": "stream",
     "text": [
      "Model accuracy on user labels: 0.33\n",
      "\n",
      "------------ CONFUSION MATRIX ------------\n"
     ]
    },
    {
     "data": {
      "image/png": "[encoded data removed]",
      "text/plain": [
       "<Figure size 432x288 with 2 Axes>"
      ]
     },
     "metadata": {
      "needs_background": "light"
     },
     "output_type": "display_data"
    }
   ],
   "source": [
    "# Compute the confusion matrix\n",
    "ConfusionMatrixDisplay.from_predictions(y_user_text, y_model_text, labels = labels, normalize='true', values_format='.2f')\n",
    "\n",
    "# Compute and print the accuracy score of the model\n",
    "print('Model accuracy on user labels: {:.2f}\\n'.format(accuracy_score(y_user_text, y_model_text)))\n",
    "\n",
    "print(\"------------ CONFUSION MATRIX ------------\")"
   ]
  },
  {
   "cell_type": "markdown",
   "id": "5f930b54",
   "metadata": {},
   "source": [
    "## Audio metrics ##\n",
    "\n",
    "Compute the model accuracy score and display the confusion matrix on AUDIO results. "
   ]
  },
  {
   "cell_type": "code",
   "execution_count": 8,
   "id": "3ad5f719",
   "metadata": {},
   "outputs": [],
   "source": [
    "y_user_audio = X_res_audio.User_Label\n",
    "y_model_audio = X_res_audio.Model_Label"
   ]
  },
  {
   "cell_type": "code",
   "execution_count": 9,
   "id": "719aae66",
   "metadata": {},
   "outputs": [
    {
     "name": "stdout",
     "output_type": "stream",
     "text": [
      "Model accuracy on user labels: 1.00\n",
      "\n",
      "------------ CONFUSION MATRIX ------------\n"
     ]
    },
    {
     "data": {
      "image/png": "[encoded data removed]",
      "text/plain": [
       "<Figure size 432x288 with 2 Axes>"
      ]
     },
     "metadata": {
      "needs_background": "light"
     },
     "output_type": "display_data"
    }
   ],
   "source": [
    "# Compute the confusion matrix\n",
    "ConfusionMatrixDisplay.from_predictions(y_user_audio, y_model_audio, labels = labels, normalize='true', values_format='.2f')\n",
    "\n",
    "# Compute and print the accuracy score of the model\n",
    "print('Model accuracy on user labels: {:.2f}\\n'.format(accuracy_score(y_user_audio, y_model_audio)))\n",
    "\n",
    "print(\"------------ CONFUSION MATRIX ------------\")"
   ]
  }
 ],
 "metadata": {
  "kernelspec": {
   "display_name": "Python 3 (ipykernel)",
   "language": "python",
   "name": "python3"
  },
  "language_info": {
   "codemirror_mode": {
    "name": "ipython",
    "version": 3
   },
   "file_extension": ".py",
   "mimetype": "text/x-python",
   "name": "python",
   "nbconvert_exporter": "python",
   "pygments_lexer": "ipython3",
   "version": "3.10.4"
  }
 },
 "nbformat": 4,
 "nbformat_minor": 5
}
