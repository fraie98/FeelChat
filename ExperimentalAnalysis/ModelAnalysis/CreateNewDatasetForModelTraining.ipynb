{
 "cells": [
  {
   "cell_type": "code",
   "execution_count": 1,
   "id": "4637945a",
   "metadata": {},
   "outputs": [],
   "source": [
    "from sklearn.metrics import ConfusionMatrixDisplay\n",
    "from sklearn.metrics import accuracy_score\n",
    "from sklearn.model_selection import train_test_split\n",
    "\n",
    "import matplotlib.pyplot as plt\n",
    "\n",
    "import numpy as np\n",
    "\n",
    "from model_testing import *"
   ]
  },
  {
   "cell_type": "code",
   "execution_count": 2,
   "id": "6fee5c42",
   "metadata": {},
   "outputs": [],
   "source": [
    "# Parse the json files used for the test and extract the dataframe corrisponding to the msgs and audio \n",
    "df_text = test_text() \n",
    "df_audio = test_audio()"
   ]
  },
  {
   "cell_type": "code",
   "execution_count": 3,
   "id": "8db1bd8f",
   "metadata": {},
   "outputs": [],
   "source": [
    "#df_text.User_Label.loc[df_text.User_Label == 'sadness'] = 'sad'\n",
    "df_text.User_Label.loc[df_text.User_Label == 'angry'] = 'anger'\n",
    "\n",
    "df_audio.User_Label.loc[df_audio.User_Label == 'sadness'] = 'sad'"
   ]
  },
  {
   "cell_type": "markdown",
   "id": "a36ef101",
   "metadata": {},
   "source": [
    "## BALANCING"
   ]
  },
  {
   "cell_type": "code",
   "execution_count": 4,
   "id": "085c7e7f",
   "metadata": {},
   "outputs": [],
   "source": [
    "from imblearn.under_sampling import RandomUnderSampler\n",
    "\n",
    "rus = RandomUnderSampler(random_state=42)"
   ]
  },
  {
   "cell_type": "code",
   "execution_count": 5,
   "id": "14d6bf6d",
   "metadata": {},
   "outputs": [],
   "source": [
    "X_train, X_test, y_train, y_test = train_test_split(df_text, df_text.User_Label, test_size=0.1)"
   ]
  },
  {
   "cell_type": "code",
   "execution_count": 6,
   "id": "08d45620",
   "metadata": {},
   "outputs": [
    {
     "data": {
      "text/html": [
       "<div>\n",
       "<style scoped>\n",
       "    .dataframe tbody tr th:only-of-type {\n",
       "        vertical-align: middle;\n",
       "    }\n",
       "\n",
       "    .dataframe tbody tr th {\n",
       "        vertical-align: top;\n",
       "    }\n",
       "\n",
       "    .dataframe thead th {\n",
       "        text-align: right;\n",
       "    }\n",
       "</style>\n",
       "<table border=\"1\" class=\"dataframe\">\n",
       "  <thead>\n",
       "    <tr style=\"text-align: right;\">\n",
       "      <th></th>\n",
       "      <th>Message</th>\n",
       "      <th>User_Label</th>\n",
       "      <th>Model_Label</th>\n",
       "    </tr>\n",
       "  </thead>\n",
       "  <tbody>\n",
       "    <tr>\n",
       "      <th>406</th>\n",
       "      <td>Or maybe not</td>\n",
       "      <td>neutral</td>\n",
       "      <td>neutral</td>\n",
       "    </tr>\n",
       "    <tr>\n",
       "      <th>126</th>\n",
       "      <td>you wanna make me angry?</td>\n",
       "      <td>anger</td>\n",
       "      <td>anger</td>\n",
       "    </tr>\n",
       "    <tr>\n",
       "      <th>1</th>\n",
       "      <td>i love this app</td>\n",
       "      <td>joy</td>\n",
       "      <td>joy</td>\n",
       "    </tr>\n",
       "    <tr>\n",
       "      <th>492</th>\n",
       "      <td>here we are again</td>\n",
       "      <td>sadness</td>\n",
       "      <td>neutral</td>\n",
       "    </tr>\n",
       "    <tr>\n",
       "      <th>35</th>\n",
       "      <td>we used java</td>\n",
       "      <td>neutral</td>\n",
       "      <td>neutral</td>\n",
       "    </tr>\n",
       "    <tr>\n",
       "      <th>...</th>\n",
       "      <td>...</td>\n",
       "      <td>...</td>\n",
       "      <td>...</td>\n",
       "    </tr>\n",
       "    <tr>\n",
       "      <th>282</th>\n",
       "      <td>Mine was amazing</td>\n",
       "      <td>joy</td>\n",
       "      <td>neutral</td>\n",
       "    </tr>\n",
       "    <tr>\n",
       "      <th>690</th>\n",
       "      <td>My imagination is endless</td>\n",
       "      <td>neutral</td>\n",
       "      <td>joy</td>\n",
       "    </tr>\n",
       "    <tr>\n",
       "      <th>62</th>\n",
       "      <td>due to exams and more</td>\n",
       "      <td>neutral</td>\n",
       "      <td>neutral</td>\n",
       "    </tr>\n",
       "    <tr>\n",
       "      <th>33</th>\n",
       "      <td>i don't want to be killed</td>\n",
       "      <td>fear</td>\n",
       "      <td>neutral</td>\n",
       "    </tr>\n",
       "    <tr>\n",
       "      <th>70</th>\n",
       "      <td>Let's hope nothing crashes</td>\n",
       "      <td>neutral</td>\n",
       "      <td>neutral</td>\n",
       "    </tr>\n",
       "  </tbody>\n",
       "</table>\n",
       "<p>640 rows × 3 columns</p>\n",
       "</div>"
      ],
      "text/plain": [
       "                        Message User_Label Model_Label\n",
       "406                Or maybe not    neutral     neutral\n",
       "126    you wanna make me angry?      anger       anger\n",
       "1               i love this app        joy         joy\n",
       "492           here we are again    sadness     neutral\n",
       "35                 we used java    neutral     neutral\n",
       "..                          ...        ...         ...\n",
       "282            Mine was amazing        joy     neutral\n",
       "690   My imagination is endless    neutral         joy\n",
       "62        due to exams and more    neutral     neutral\n",
       "33    i don't want to be killed       fear     neutral\n",
       "70   Let's hope nothing crashes    neutral     neutral\n",
       "\n",
       "[640 rows x 3 columns]"
      ]
     },
     "execution_count": 6,
     "metadata": {},
     "output_type": "execute_result"
    }
   ],
   "source": [
    "X_train"
   ]
  },
  {
   "cell_type": "code",
   "execution_count": 7,
   "id": "f3bfd235",
   "metadata": {},
   "outputs": [],
   "source": [
    "X_res_text, y_res_text = rus.fit_resample(X_train, y_train)"
   ]
  },
  {
   "cell_type": "code",
   "execution_count": 8,
   "id": "3b0456f3",
   "metadata": {},
   "outputs": [
    {
     "data": {
      "text/plain": [
       "<AxesSubplot:>"
      ]
     },
     "execution_count": 8,
     "metadata": {},
     "output_type": "execute_result"
    },
    {
     "data": {
      "image/png": "[encoded data removed]",
      "text/plain": [
       "<Figure size 432x288 with 1 Axes>"
      ]
     },
     "metadata": {
      "needs_background": "light"
     },
     "output_type": "display_data"
    }
   ],
   "source": [
    "round(X_res_text.User_Label.value_counts(normalize=True)*100,2).plot(kind='bar')"
   ]
  },
  {
   "cell_type": "code",
   "execution_count": 9,
   "id": "4d0112a0",
   "metadata": {},
   "outputs": [
    {
     "data": {
      "text/plain": [
       "(640, 3)"
      ]
     },
     "execution_count": 9,
     "metadata": {},
     "output_type": "execute_result"
    }
   ],
   "source": [
    "X_train.shape"
   ]
  },
  {
   "cell_type": "code",
   "execution_count": 10,
   "id": "74ed1d40",
   "metadata": {},
   "outputs": [
    {
     "data": {
      "text/plain": [
       "(220, 3)"
      ]
     },
     "execution_count": 10,
     "metadata": {},
     "output_type": "execute_result"
    }
   ],
   "source": [
    "X_res_text.shape"
   ]
  },
  {
   "cell_type": "code",
   "execution_count": 11,
   "id": "d15089b1",
   "metadata": {},
   "outputs": [
    {
     "data": {
      "text/plain": [
       "(72, 3)"
      ]
     },
     "execution_count": 11,
     "metadata": {},
     "output_type": "execute_result"
    }
   ],
   "source": [
    "X_test.shape"
   ]
  },
  {
   "cell_type": "code",
   "execution_count": 12,
   "id": "a4edb7a4",
   "metadata": {},
   "outputs": [],
   "source": [
    "X_res_text = X_res_text[['Message', 'User_Label']]\n",
    "X_res_text = X_res_text.rename(columns = {'Message':'tweet', 'User_Label':'emotion'})\n",
    "test = X_test[['Message', 'User_Label']]\n",
    "test = test.rename(columns = {'Message':'tweet', 'User_Label':'emotion'})"
   ]
  },
  {
   "cell_type": "code",
   "execution_count": 13,
   "id": "87475450",
   "metadata": {},
   "outputs": [],
   "source": [
    "# LOAD WASSA DATASET\n",
    "WASSA_TRAIN = (pd.read_csv('./wassa_off_train.csv'))\n",
    "WASSA_TEST = pd.read_csv('./wassa_off_test.csv')"
   ]
  },
  {
   "cell_type": "code",
   "execution_count": 14,
   "id": "e32b92d2",
   "metadata": {},
   "outputs": [],
   "source": [
    "wassa_joy_train = WASSA_TRAIN[WASSA_TRAIN[\"emotion\"] == \"joy\"].sample(n=len(X_res_text[X_res_text[\"emotion\"]==\"joy\"]))\n",
    "wassa_anger_train = WASSA_TRAIN[WASSA_TRAIN[\"emotion\"] == \"anger\"].sample(n=len(X_res_text[X_res_text[\"emotion\"]==\"anger\"]))\n",
    "wassa_fear_train = WASSA_TRAIN[WASSA_TRAIN[\"emotion\"] == \"fear\"].sample(n=len(X_res_text[X_res_text[\"emotion\"]==\"fear\"]))\n",
    "wassa_sadness_train = WASSA_TRAIN[WASSA_TRAIN[\"emotion\"] == \"sadness\"].sample(n=len(X_res_text[X_res_text[\"emotion\"]==\"sadness\"]))\n",
    "wassa_neutral_train = WASSA_TRAIN[WASSA_TRAIN[\"emotion\"] == \"neutral\"].sample(n=len(X_res_text[X_res_text[\"emotion\"]==\"neutral\"]))\n",
    "\n",
    "wassa_emotions_test = WASSA_TEST.sample(n=len(test))\n",
    "\n",
    "wassa_and_user_train = pd.concat([X_res_text, wassa_anger_train, wassa_fear_train, wassa_joy_train, wassa_neutral_train, wassa_sadness_train])\n",
    "wassa_and_user_test = pd.concat([test, wassa_emotions_test])"
   ]
  },
  {
   "cell_type": "code",
   "execution_count": 15,
   "id": "b90a33e7",
   "metadata": {},
   "outputs": [],
   "source": [
    "X_res_text.to_csv('user_train.csv', index=True)\n",
    "test.to_csv('user_test.csv', index = True)"
   ]
  },
  {
   "cell_type": "code",
   "execution_count": 16,
   "id": "63fa1dc7",
   "metadata": {},
   "outputs": [],
   "source": [
    "wassa_and_user_train.to_csv('wassa_and_user_train.csv', index=True)\n",
    "wassa_and_user_test.to_csv('wassa_and_user_test.csv', index=True)"
   ]
  }
 ],
 "metadata": {
  "kernelspec": {
   "display_name": "Python 3 (ipykernel)",
   "language": "python",
   "name": "python3"
  },
  "language_info": {
   "codemirror_mode": {
    "name": "ipython",
    "version": 3
   },
   "file_extension": ".py",
   "mimetype": "text/x-python",
   "name": "python",
   "nbconvert_exporter": "python",
   "pygments_lexer": "ipython3",
   "version": "3.10.4"
  }
 },
 "nbformat": 4,
 "nbformat_minor": 5
}
